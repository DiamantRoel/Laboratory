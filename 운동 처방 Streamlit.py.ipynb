{
 "cells": [
  {
   "cell_type": "code",
   "execution_count": 53,
   "id": "a7ed1116-d4e0-4c92-a17b-fe324a943343",
   "metadata": {},
   "outputs": [
    {
     "name": "stdout",
     "output_type": "stream",
     "text": [
      "Overwriting dashboard.py\n"
     ]
    }
   ],
   "source": [
    "import streamlit as st\n",
    "import pandas as pd\n",
    "from tensorflow.keras.models import load_model\n",
    "import numpy as np\n",
    "\n",
    "# 모델 로드\n",
    "model = load_model('model.h5')\n",
    "\n",
    "# 입력 특성 리스트\n",
    "feature = ['측정연령수', '수축기혈압(최고)mmHg', '이완기혈압(최저)mmHg', 'BMI', '체지방율', '악력']\n",
    "\n",
    "# 진단 데이터 인코딩 이전 내용\n",
    "diagnosis = {\n",
    "    0: '트레드밀에서 걷기',\n",
    "    1: '앉아서 다리 모으기',\n",
    "    2: '앉아서 다리 벌리기',\n",
    "    3: '앉아서 다리 펴기',\n",
    "    4: '앉아서 다리 밀기',\n",
    "    5: '앉아서 다리 굽히기',\n",
    "    6: '실내 자전거타기',\n",
    "    7: '앉아서 뒤로 당기기',\n",
    "    8: '발 닿기',\n",
    "    9: '몸통 들어올리기',\n",
    "    10: '앉아서 당겨 내리기',\n",
    "    11: '앉아서 모으기',\n",
    "    12: '앉아서 위로 밀기',\n",
    "    13: '바벨들어올리기',\n",
    "    14: '앉아서 밀기',\n",
    "    15: '거꾸로 누워서 밀기',\n",
    "    16: '비스듬히 누워서 밀기',\n",
    "    17: '허리 굽혀 덤벨 들기',\n",
    "    18: '원판던지기',\n",
    "    19: '서서 어깨 들어올리기',\n",
    "    20: '파워클린',\n",
    "    21: '앉았다 일어서기',\n",
    "    22: '바벨 들어 팔꿈치 굽히기',\n",
    "    23: '손목 펴기',\n",
    "    24: '옆구리늘리기',\n",
    "    25: '턱걸이',\n",
    "    26: '덤벨 옆으로 들어올리기',\n",
    "    27: '엎드려서 균형잡기',\n",
    "    28: '앉아서 팔꿈치 굽히기',\n",
    "    29: '윗몸 말아 올리기',\n",
    "    30: '한발 앞으로 내밀고 앉았다 일어서기',\n",
    "    31: '앉아서 몸통 움츠리기',\n",
    "    32: '서서 균형잡으며 몸통 회전하기',\n",
    "    33: '바벨 끌어당기기',\n",
    "    34: '누워서 밀기',\n",
    "    35: '허리 굽혀 덤벨 뒤로 들기',\n",
    "    36: '짝 운동',\n",
    "    37: '뒤꿈치 들기',\n",
    "    38: '몸통 옆으로 굽히기',\n",
    "    39: '매달려서 다리 들기',\n",
    "    40: '누워서 머리 위로 팔꿈치 펴기',\n",
    "    41: '의자 앞에서 앉았다 일어서기',\n",
    "    42: '엎드려서 다리 차올리기'\n",
    "}\n",
    "\n",
    "# Streamlit 앱 제목 설정\n",
    "st.title('운동 처방 모델')\n",
    "\n",
    "# 사용자로부터 특성 값 입력받기\n",
    "col1, col2, col3 = st.columns(3)\n",
    "user_input = {}\n",
    "user_input['측정연령수'] = col1.number_input('나이', min_value=0, step=1, value=0)\n",
    "user_input['수축기혈압(최고)mmHg'] = col2.number_input('최고혈압 / mmHg', min_value=0.0)\n",
    "user_input['이완기혈압(최저)mmHg'] = col3.number_input('최저혈압 / mmHg', min_value=0.0)\n",
    "\n",
    "col4, col5, col6 = st.columns(3)\n",
    "user_input['BMI'] = col4.number_input('BMI', min_value=0.0)\n",
    "user_input['체지방율'] = col5.number_input('체지방율', min_value=0.0)\n",
    "user_input['악력'] = col6.number_input('악력', min_value=0.0)\n",
    "\n",
    "if st.button('처방'):\n",
    "    input_df = pd.DataFrame([user_input])\n",
    "\n",
    "    input_features = input_df[feature].values\n",
    "    input_features = (input_features - np.mean(input_features, axis=0)) / np.std(input_features, axis=0)\n",
    "\n",
    "    prediction = model.predict(input_features)\n",
    "    predicted_labels = np.argsort(prediction)[0][-3:][::-1]\n",
    "\n",
    "    for label in predicted_labels:\n",
    "        st.write(diagnosis[label])"
   ]
  },
  {
   "cell_type": "code",
   "execution_count": 38,
   "id": "729b0ccd-1209-4b4a-ad27-a00c1629b637",
   "metadata": {},
   "outputs": [
    {
     "name": "stdout",
     "output_type": "stream",
     "text": [
      "^C\n"
     ]
    }
   ],
   "source": [
    "!streamlit run dashboard.py"
   ]
  }
 ],
 "metadata": {
  "kernelspec": {
   "display_name": "Python 3 (ipykernel)",
   "language": "python",
   "name": "python3"
  },
  "language_info": {
   "codemirror_mode": {
    "name": "ipython",
    "version": 3
   },
   "file_extension": ".py",
   "mimetype": "text/x-python",
   "name": "python",
   "nbconvert_exporter": "python",
   "pygments_lexer": "ipython3",
   "version": "3.9.13"
  }
 },
 "nbformat": 4,
 "nbformat_minor": 5
}
